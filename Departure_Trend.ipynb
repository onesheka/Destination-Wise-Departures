{
 "cells": [
  {
   "cell_type": "markdown",
   "metadata": {},
   "source": [
    "# <center> ANALYZING THE DEPARTURE TREND OF INDIA </center>"
   ]
  },
  {
   "cell_type": "markdown",
   "metadata": {},
   "source": [
    "The dataset has been collected from https://data.gov.in/ : <br>\n",
    "- <a href = \"https://data.gov.in/resources/destination-wise-number-indian-nationals-departures-india-2009-2016\">Dataset: </a>Destination-wise number of Indian Nationals' Departures from India from 2009 to 2016 \n",
    "\n",
    "Let's explore the Dataset\n",
    "\n"
   ]
  },
  {
   "cell_type": "code",
   "execution_count": 2,
   "metadata": {},
   "outputs": [],
   "source": [
    "import sqlite3\n",
    "conn = sqlite3.connect(\"Departures_India.db\")"
   ]
  },
  {
   "cell_type": "code",
   "execution_count": 3,
   "metadata": {},
   "outputs": [
    {
     "name": "stdout",
     "output_type": "stream",
     "text": [
      "        Destination_Country  Number_of_Departures2009  \\\n",
      "0                    Canada                    107959   \n",
      "1  United States of America                    549474   \n",
      "2                   Bahamas                       435   \n",
      "3                  Barbados                       959   \n",
      "4                    Brazil                     11361   \n",
      "\n",
      "   Number_of_Departures2010  Number_of_Departures2011  \\\n",
      "0                    127619                    139213   \n",
      "1                    650935                    663465   \n",
      "2                       561                       398   \n",
      "3                      1317                      1230   \n",
      "4                    181829                     21530   \n",
      "\n",
      "   Number_of_Departures2012  Number_of_Departures2013  \\\n",
      "0                    146652                    147099   \n",
      "1                    724433                    859156   \n",
      "2                       596                       421   \n",
      "3                       758                       965   \n",
      "4                     22096                     22719   \n",
      "\n",
      "   Number_of_Departures2014  Number_of_Departures2015  \\\n",
      "0                    175536                    190565   \n",
      "1                    962133                   1125783   \n",
      "2                       422                       614   \n",
      "3                       947                       944   \n",
      "4                     25675                     23259   \n",
      "\n",
      "   Number_of_Departures2016  \n",
      "0                    215664  \n",
      "1                   1172256  \n",
      "2                       435  \n",
      "3                       900  \n",
      "4                     23246  \n",
      "Index(['Destination_Country', 'Number_of_Departures2009',\n",
      "       'Number_of_Departures2010', 'Number_of_Departures2011',\n",
      "       'Number_of_Departures2012', 'Number_of_Departures2013',\n",
      "       'Number_of_Departures2014', 'Number_of_Departures2015',\n",
      "       'Number_of_Departures2016'],\n",
      "      dtype='object')\n"
     ]
    }
   ],
   "source": [
    "import pandas as pd\n",
    "\n",
    "destination_wise_departures = pd.read_sql_query(\"select * from Destination_wise_departures\",conn)\n",
    "print(destination_wise_departures[0:5])\n",
    "print(destination_wise_departures.columns)\n",
    "\n"
   ]
  },
  {
   "cell_type": "markdown",
   "metadata": {},
   "source": [
    "So, there are 9 columns in the first Dataset. Destination countries and the number of departures from 2009 till 2016. Let's check the total number of countries in the dataset."
   ]
  },
  {
   "cell_type": "code",
   "execution_count": 4,
   "metadata": {},
   "outputs": [
    {
     "name": "stdout",
     "output_type": "stream",
     "text": [
      "117\n"
     ]
    }
   ],
   "source": [
    "print(len(destination_wise_departures['Destination_Country']))"
   ]
  },
  {
   "cell_type": "markdown",
   "metadata": {},
   "source": [
    "So, out of 195 countries of the world, we have the record of 117 countries where people go from India. <br>\n",
    "Let's check out the top 5 countries people departure the most to in 2016 using sql by importing sqlite3"
   ]
  },
  {
   "cell_type": "code",
   "execution_count": 119,
   "metadata": {},
   "outputs": [],
   "source": [
    "cursor = conn.cursor()\n",
    "query = \"select Destination_Country,Number_of_Departures2016 from Destination_wise_departures order by Number_of_Departures2016 desc limit 5;\"\n",
    "cursor.execute(query)\n",
    "top_5_2016 = cursor.fetchall()"
   ]
  },
  {
   "cell_type": "code",
   "execution_count": 120,
   "metadata": {},
   "outputs": [
    {
     "data": {
      "text/plain": [
       "[('Saudi Arabia', 1619454),\n",
       " ('Australia', 1259970),\n",
       " ('United States of America', 1172256),\n",
       " ('Kuwait', 1138733),\n",
       " ('Singapore', 1097200)]"
      ]
     },
     "execution_count": 120,
     "metadata": {},
     "output_type": "execute_result"
    }
   ],
   "source": [
    "top_5_2016"
   ]
  },
  {
   "cell_type": "markdown",
   "metadata": {},
   "source": [
    "Let's check out the country people least go to"
   ]
  },
  {
   "cell_type": "code",
   "execution_count": 15,
   "metadata": {},
   "outputs": [],
   "source": [
    "query = \"select Destination_Country, Number_of_Departures2016 from Destination_wise_departures where Number_of_Departures2016 != 0 order by Number_of_Departures2016 limit 1;\"\n",
    "cursor.execute(query)\n",
    "least_travelled_country_2016 = cursor.fetchall()"
   ]
  },
  {
   "cell_type": "code",
   "execution_count": 16,
   "metadata": {},
   "outputs": [
    {
     "data": {
      "text/plain": [
       "[('Cook Islands', 25)]"
      ]
     },
     "execution_count": 16,
     "metadata": {},
     "output_type": "execute_result"
    }
   ],
   "source": [
    "least_travelled_country_2016"
   ]
  },
  {
   "cell_type": "markdown",
   "metadata": {},
   "source": [
    "FYI, Cook Islands is a self governing Island Country near Newzland.  <br>\n",
    "As the most travelled country is Saudi Arabia, let's watch it's trend over the years."
   ]
  },
  {
   "cell_type": "code",
   "execution_count": 39,
   "metadata": {},
   "outputs": [],
   "source": [
    "query = \"select * from Destination_wise_departures where Destination_Country='Saudi Arabia';\"\n",
    "cursor.execute(query)\n",
    "trend_SA = cursor.fetchall()"
   ]
  },
  {
   "cell_type": "code",
   "execution_count": 102,
   "metadata": {},
   "outputs": [
    {
     "data": {
      "text/plain": [
       "[('Saudi Arabia',\n",
       "  247075,\n",
       "  389116,\n",
       "  758234,\n",
       "  1075459,\n",
       "  1006229,\n",
       "  1193412,\n",
       "  1365292,\n",
       "  1619454)]"
      ]
     },
     "execution_count": 102,
     "metadata": {},
     "output_type": "execute_result"
    }
   ],
   "source": [
    "trend_SA\n"
   ]
  },
  {
   "cell_type": "markdown",
   "metadata": {},
   "source": [
    "We can observe that the departure trend for Saudi Arabia has been increasing over a steady rate."
   ]
  },
  {
   "cell_type": "code",
   "execution_count": 110,
   "metadata": {
    "scrolled": true
   },
   "outputs": [
    {
     "data": {
      "image/png": "[encoded data removed]",
      "text/plain": [
       "<Figure size 432x288 with 1 Axes>"
      ]
     },
     "metadata": {},
     "output_type": "display_data"
    }
   ],
   "source": [
    "#steady growth\n",
    "SA_trend = pd.read_sql_query(\"select * from Destination_wise_departures where Destination_Country='Saudi Arabia';\",conn)\n",
    "\n",
    "\n",
    "import seaborn as sns\n",
    "import matplotlib.pyplot as plt\n",
    "\n",
    "x = ['2009','2010','2011','2012','2013','2014','2015','2016'] \n",
    "y = [SA_trend['Number_of_Departures2009'],SA_trend['Number_of_Departures2010'],SA_trend['Number_of_Departures2011'],SA_trend['Number_of_Departures2012'],SA_trend['Number_of_Departures2013'],SA_trend['Number_of_Departures2014'],SA_trend['Number_of_Departures2015'],SA_trend['Number_of_Departures2016']]\n",
    "plt.plot(x,y,color=\"g\")\n",
    "plt.xlabel(\"Year\")\n",
    "plt.ylabel(\"Number of Departures\")\n",
    "plt.title(\"Saudi Arabia Departure Trend\")\n",
    "plt.show()\n",
    "\n",
    "\n"
   ]
  },
  {
   "cell_type": "markdown",
   "metadata": {},
   "source": [
    "Let's check the maximum departures in year 2009"
   ]
  },
  {
   "cell_type": "code",
   "execution_count": 113,
   "metadata": {},
   "outputs": [],
   "source": [
    "cursor = conn.cursor()\n",
    "query = \"select Destination_Country,Number_of_Departures2009 from Destination_wise_departures order by Number_of_Departures2009 desc limit 5;\"\n",
    "cursor.execute(query)\n",
    "top_5_2009 = cursor.fetchall()"
   ]
  },
  {
   "cell_type": "code",
   "execution_count": 114,
   "metadata": {},
   "outputs": [
    {
     "data": {
      "text/plain": [
       "[('Kuwait', 733117),\n",
       " ('Singapore', 725624),\n",
       " ('Thailand', 596529),\n",
       " ('Malaysia', 589838),\n",
       " ('United States of America', 549474)]"
      ]
     },
     "execution_count": 114,
     "metadata": {},
     "output_type": "execute_result"
    }
   ],
   "source": [
    "top_5_2009"
   ]
  },
  {
   "cell_type": "markdown",
   "metadata": {},
   "source": [
    "We can observe that in 2009, top countries were all asian, leaving the US. And Saudi Arabia was not even in the top 5 list. \n",
    "This can be due to an increase in the trade, work. Let's observe the trend of the most travelled Country of 2009 - KUWAIT"
   ]
  },
  {
   "cell_type": "code",
   "execution_count": 116,
   "metadata": {},
   "outputs": [
    {
     "data": {
      "image/png": "[encoded data removed]",
      "text/plain": [
       "<Figure size 432x288 with 1 Axes>"
      ]
     },
     "metadata": {},
     "output_type": "display_data"
    }
   ],
   "source": [
    "Kuwait_trend = pd.read_sql_query(\"select * from Destination_wise_departures where Destination_Country='Kuwait';\",conn)\n",
    "\n",
    "x = ['2009','2010','2011','2012','2013','2014','2015','2016'] \n",
    "y = [Kuwait_trend['Number_of_Departures2009'],Kuwait_trend['Number_of_Departures2010'],Kuwait_trend['Number_of_Departures2011'],Kuwait_trend['Number_of_Departures2012'],Kuwait_trend['Number_of_Departures2013'],Kuwait_trend['Number_of_Departures2014'],Kuwait_trend['Number_of_Departures2015'],Kuwait_trend['Number_of_Departures2016']]\n",
    "plt.plot(x,y,color=\"blue\")\n",
    "plt.xlabel(\"Year\")\n",
    "plt.ylabel(\"Number of Departures\")\n",
    "plt.title(\"Kuwait Departure Trend\")\n",
    "plt.show()\n"
   ]
  },
  {
   "cell_type": "markdown",
   "metadata": {},
   "source": [
    "We can observe that Kuwait Departure Trend also is increasing at a rapid rate."
   ]
  },
  {
   "cell_type": "markdown",
   "metadata": {},
   "source": [
    "Now, let's check the trend somewhere in between say 2012"
   ]
  },
  {
   "cell_type": "code",
   "execution_count": 126,
   "metadata": {},
   "outputs": [],
   "source": [
    "cursor = conn.cursor()\n",
    "query = \"select Destination_Country,Number_of_Departures2012 from Destination_wise_departures order by Number_of_Departures2012 desc limit 5;\"\n",
    "cursor.execute(query)\n",
    "top_5_2012 = cursor.fetchall()"
   ]
  },
  {
   "cell_type": "code",
   "execution_count": null,
   "metadata": {},
   "outputs": [],
   "source": []
  },
  {
   "cell_type": "code",
   "execution_count": 127,
   "metadata": {},
   "outputs": [
    {
     "data": {
      "text/plain": [
       "[('Saudi Arabia', 1075459),\n",
       " ('Thailand', 985883),\n",
       " ('Bahrain', 963194),\n",
       " ('Singapore', 894993),\n",
       " ('Kuwait', 826526)]"
      ]
     },
     "execution_count": 127,
     "metadata": {},
     "output_type": "execute_result"
    }
   ],
   "source": [
    "top_5_2012"
   ]
  },
  {
   "cell_type": "markdown",
   "metadata": {},
   "source": [
    "We didn't find Bahrain treding either in 2009 or in 2016, let's check it's status"
   ]
  },
  {
   "cell_type": "code",
   "execution_count": 131,
   "metadata": {},
   "outputs": [
    {
     "data": {
      "image/png": "[encoded data removed]",
      "text/plain": [
       "<Figure size 432x288 with 1 Axes>"
      ]
     },
     "metadata": {},
     "output_type": "display_data"
    }
   ],
   "source": [
    "Bahrain_trend = pd.read_sql_query(\"select * from Destination_wise_departures where Destination_Country='Bahrain';\",conn)\n",
    "\n",
    "x = ['2009','2010','2011','2012','2013','2014','2015','2016'] \n",
    "y = [Bahrain_trend['Number_of_Departures2009'],Bahrain_trend['Number_of_Departures2010'],Bahrain_trend['Number_of_Departures2011'],Bahrain_trend['Number_of_Departures2012'],Kuwait_trend['Number_of_Departures2013'],Bahrain_trend['Number_of_Departures2014'],Bahrain_trend['Number_of_Departures2015'],Bahrain_trend['Number_of_Departures2016']]\n",
    "plt.plot(x,y,color=\"red\")\n",
    "plt.xlabel(\"Year\")\n",
    "plt.ylabel(\"Number of Departures\")\n",
    "plt.title(\"Bahrain Departure Trend\")\n",
    "plt.show()\n"
   ]
  },
  {
   "cell_type": "markdown",
   "metadata": {},
   "source": [
    "We don't have the Bahrain data for 2009,2010,2016, hence the graph is formed such way."
   ]
  },
  {
   "cell_type": "code",
   "execution_count": 132,
   "metadata": {},
   "outputs": [],
   "source": [
    "conn.close()"
   ]
  },
  {
   "cell_type": "code",
   "execution_count": null,
   "metadata": {},
   "outputs": [],
   "source": []
  }
 ],
 "metadata": {
  "kernelspec": {
   "display_name": "Python 3",
   "language": "python",
   "name": "python3"
  },
  "language_info": {
   "codemirror_mode": {
    "name": "ipython",
    "version": 3
   },
   "file_extension": ".py",
   "mimetype": "text/x-python",
   "name": "python",
   "nbconvert_exporter": "python",
   "pygments_lexer": "ipython3",
   "version": "3.6.5"
  }
 },
 "nbformat": 4,
 "nbformat_minor": 2
}
